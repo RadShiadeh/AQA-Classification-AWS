{
 "cells": [
  {
   "cell_type": "code",
   "execution_count": 1,
   "metadata": {},
   "outputs": [],
   "source": [
    "import json\n",
    "\n",
    "def join_json_files(file1_path, file2_path, output_file_path):\n",
    "    # Read content from the first JSON file\n",
    "    with open(file1_path, 'r') as file1:\n",
    "        data1 = json.load(file1)\n",
    "\n",
    "    # Read content from the second JSON file\n",
    "    with open(file2_path, 'r') as file2:\n",
    "        data2 = json.load(file2)\n",
    "\n",
    "    # Combine the data from the two dictionaries\n",
    "    combined_data = {**data1, **data2}\n",
    "\n",
    "    # Write the combined data to a new JSON file\n",
    "    with open(output_file_path, 'w') as output_file:\n",
    "        json.dump(combined_data, output_file, indent=2)\n",
    "\n",
    "# Example usage\n",
    "file1_path = 'labeled_squat.json'\n",
    "file2_path = 'ohp_labels.json'\n",
    "output_file_path = 'all_labels.json'\n",
    "\n",
    "join_json_files(file1_path, file2_path, output_file_path)"
   ]
  }
 ],
 "metadata": {
  "kernelspec": {
   "display_name": "Python 3",
   "language": "python",
   "name": "python3"
  },
  "language_info": {
   "codemirror_mode": {
    "name": "ipython",
    "version": 3
   },
   "file_extension": ".py",
   "mimetype": "text/x-python",
   "name": "python",
   "nbconvert_exporter": "python",
   "pygments_lexer": "ipython3",
   "version": "3.11.4"
  }
 },
 "nbformat": 4,
 "nbformat_minor": 2
}
