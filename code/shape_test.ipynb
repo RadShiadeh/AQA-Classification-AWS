{
 "cells": [
  {
   "cell_type": "code",
   "execution_count": null,
   "metadata": {},
   "outputs": [],
   "source": [
    "import torch\n",
    "from model import CNN3D\n",
    "\n",
    "sample_input = torch.randn(1, 300, 120, 90, 120)\n",
    "\n",
    "classifier = CNN3D(t_dim=120, img_x=90, img_y=120, drop_p=0.2, fc1_hidden=256, fc2_hidden=256, num_classes=2)\n",
    "\n",
    "output = classifier(sample_input)\n",
    "\n",
    "print(\"Output Shape:\", output.shape)\n"
   ]
  }
 ],
 "metadata": {
  "kernelspec": {
   "display_name": ".venv",
   "language": "python",
   "name": "python3"
  },
  "language_info": {
   "name": "python",
   "version": "3.12.1"
  }
 },
 "nbformat": 4,
 "nbformat_minor": 2
}
