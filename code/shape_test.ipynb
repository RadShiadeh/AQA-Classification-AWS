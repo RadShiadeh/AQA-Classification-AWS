{
 "cells": [
  {
   "cell_type": "code",
   "execution_count": 2,
   "metadata": {},
   "outputs": [
    {
     "name": "stdout",
     "output_type": "stream",
     "text": [
      "torch.Size([1, 1])\n"
     ]
    }
   ],
   "source": [
    "from model import *\n",
    "import torch\n",
    "\n",
    "sample_input = torch.randn(1, 300, 3, 480, 480)\n",
    "sample_input = sample_input.permute(0, 2, 1, 3, 4)\n",
    "classifier = CNN3D()\n",
    "out = classifier(sample_input)\n",
    "print(out.shape)"
   ]
  },
  {
   "cell_type": "code",
   "execution_count": 14,
   "metadata": {},
   "outputs": [
    {
     "name": "stdout",
     "output_type": "stream",
     "text": [
      "torch.Size([300, 3, 480, 480])\n",
      "1\n"
     ]
    }
   ],
   "source": [
    "from dataLoader import *\n",
    "\n",
    "labels_path = \"../../dissData/labels/all_labels.json\"\n",
    "sample_vids = \"../../dissData/allVids\"\n",
    "\n",
    "video_dataset = VideoDataset(sample_vids, labels_path, transform=None)\n",
    "\n",
    "sample_index = 0\n",
    "sample_frames, sample_label = video_dataset[sample_index]\n",
    "print(sample_frames.shape)\n",
    "print(sample_label)"
   ]
  }
 ],
 "metadata": {
  "kernelspec": {
   "display_name": ".venv",
   "language": "python",
   "name": "python3"
  },
  "language_info": {
   "codemirror_mode": {
    "name": "ipython",
    "version": 3
   },
   "file_extension": ".py",
   "mimetype": "text/x-python",
   "name": "python",
   "nbconvert_exporter": "python",
   "pygments_lexer": "ipython3",
   "version": "3.12.1"
  }
 },
 "nbformat": 4,
 "nbformat_minor": 2
}
