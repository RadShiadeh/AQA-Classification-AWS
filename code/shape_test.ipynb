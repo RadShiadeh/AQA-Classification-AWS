{
 "cells": [
  {
   "cell_type": "code",
   "execution_count": 1,
   "metadata": {},
   "outputs": [
    {
     "name": "stdout",
     "output_type": "stream",
     "text": [
      "torch.Size([96, 8192])\n"
     ]
    }
   ],
   "source": [
    "from model import *\n",
    "import torch\n",
    "\n",
    "if torch.cuda.is_available():\n",
    "    device = torch.device(\"cuda\")\n",
    "else:\n",
    "    device = torch.device(\"cpu\")\n",
    "\n",
    "\n",
    "sample_input = torch.randn(1, 100, 3, 480, 480)\n",
    "sample_input = sample_input.permute(0, 2, 1, 3, 4)\n",
    "classifier = C3DC()\n",
    "out = classifier(sample_input)\n",
    "print(out.shape)"
   ]
  },
  {
   "cell_type": "code",
   "execution_count": 2,
   "metadata": {},
   "outputs": [],
   "source": [
    "from dataLoader import *\n",
    "\n",
    "labels_path = \"../labels/train_labels/train_data.json\"\n",
    "sample_vids = \"../../dissData/train_vids\"\n",
    "\n",
    "video_dataset = VideoDataset(sample_vids, labels_path, transform=None)"
   ]
  },
  {
   "cell_type": "code",
   "execution_count": 3,
   "metadata": {},
   "outputs": [
    {
     "name": "stdout",
     "output_type": "stream",
     "text": [
      "torch.Size([100, 3, 480, 480])\n",
      "0\n"
     ]
    }
   ],
   "source": [
    "sample_index = 0\n",
    "sample_frames, sample_label = video_dataset[sample_index]\n",
    "print(sample_frames.shape)\n",
    "print(sample_label)"
   ]
  },
  {
   "cell_type": "code",
   "execution_count": 4,
   "metadata": {},
   "outputs": [
    {
     "name": "stdout",
     "output_type": "stream",
     "text": [
      "torch.Size([96, 1])\n"
     ]
    }
   ],
   "source": [
    "fc = FullyConnected()\n",
    "out_fc = fc(out)\n",
    "score_reg = ScoreRegressor()\n",
    "output = score_reg(out_fc)\n",
    "print(output.shape)"
   ]
  },
  {
   "cell_type": "code",
   "execution_count": 7,
   "metadata": {},
   "outputs": [
    {
     "name": "stdout",
     "output_type": "stream",
     "text": [
      "tensor([0.0015], grad_fn=<SelectBackward0>)\n"
     ]
    }
   ],
   "source": [
    "print(output[1])"
   ]
  },
  {
   "cell_type": "code",
   "execution_count": 5,
   "metadata": {},
   "outputs": [
    {
     "ename": "TypeError",
     "evalue": "ScoreRegressor.__init__() got an unexpected keyword argument 'input_size'",
     "output_type": "error",
     "traceback": [
      "\u001b[1;31m---------------------------------------------------------------------------\u001b[0m",
      "\u001b[1;31mTypeError\u001b[0m                                 Traceback (most recent call last)",
      "Cell \u001b[1;32mIn[5], line 2\u001b[0m\n\u001b[0;32m      1\u001b[0m data_loader \u001b[38;5;241m=\u001b[39m DataLoader(video_dataset, batch_size\u001b[38;5;241m=\u001b[39m\u001b[38;5;241m5\u001b[39m, shuffle\u001b[38;5;241m=\u001b[39m\u001b[38;5;28;01mTrue\u001b[39;00m)\n\u001b[1;32m----> 2\u001b[0m eteModel \u001b[38;5;241m=\u001b[39m EndToEndModel(classifier, final_score_regressor\u001b[38;5;241m=\u001b[39m\u001b[43mScoreRegressor\u001b[49m\u001b[43m(\u001b[49m\u001b[43minput_size\u001b[49m\u001b[38;5;241;43m=\u001b[39;49m\u001b[38;5;241;43m100\u001b[39;49m\u001b[38;5;241;43m*\u001b[39;49m\u001b[38;5;241;43m3\u001b[39;49m\u001b[38;5;241;43m*\u001b[39;49m\u001b[38;5;241;43m480\u001b[39;49m\u001b[38;5;241;43m*\u001b[39;49m\u001b[38;5;241;43m480\u001b[39;49m\u001b[43m,\u001b[49m\u001b[43m \u001b[49m\u001b[43mhidden_size\u001b[49m\u001b[38;5;241;43m=\u001b[39;49m\u001b[38;5;241;43m64\u001b[39;49m\u001b[43m,\u001b[49m\u001b[43m \u001b[49m\u001b[43mout_size\u001b[49m\u001b[38;5;241;43m=\u001b[39;49m\u001b[38;5;241;43m1\u001b[39;49m\u001b[43m)\u001b[49m)\n",
      "\u001b[1;31mTypeError\u001b[0m: ScoreRegressor.__init__() got an unexpected keyword argument 'input_size'"
     ]
    }
   ],
   "source": [
    "data_loader = DataLoader(video_dataset, batch_size=5, shuffle=True)\n",
    "eteModel = EndToEndModel(classifier, fc,final_score_regressor=ScoreRegressor())"
   ]
  },
  {
   "cell_type": "code",
   "execution_count": null,
   "metadata": {},
   "outputs": [],
   "source": [
    "import torch\n",
    "import torch.nn as nn\n",
    "import torch.optim as optim\n",
    "\n",
    "criterion = nn.BCELoss()\n",
    "optimizer = optim.AdamW(eteModel.parameters(), lr=0.00001)\n",
    "\n",
    "num_epochs = 5\n",
    "\n",
    "for epoch in range(num_epochs):\n",
    "    for frames, labels in data_loader:\n",
    "        frames = frames.to(device)\n",
    "        labels = labels.to(device)\n",
    "        optimizer.zero_grad()\n",
    "\n",
    "        outputs = eteModel(frames)\n",
    "        classification_output = outputs['classification']\n",
    "        final_score_output = outputs['final_score']\n",
    "\n",
    "        # Calculate individual losses for classification and final score\n",
    "        classification_loss = criterion(classification_output, labels.float().view(-1, 1))\n",
    "        final_score_loss = criterion(final_score_output, labels.float().view(-1, 1))\n",
    "\n",
    "        # Combine the losses with appropriate weights or other logic if needed\n",
    "        loss = classification_loss + final_score_loss\n",
    "\n",
    "        loss.backward()\n",
    "        optimizer.step()\n",
    "\n",
    "        print(f'Epoch {epoch + 1}/{num_epochs}, Loss: {loss.item()}')"
   ]
  }
 ],
 "metadata": {
  "kernelspec": {
   "display_name": ".venv",
   "language": "python",
   "name": "python3"
  },
  "language_info": {
   "codemirror_mode": {
    "name": "ipython",
    "version": 3
   },
   "file_extension": ".py",
   "mimetype": "text/x-python",
   "name": "python",
   "nbconvert_exporter": "python",
   "pygments_lexer": "ipython3",
   "version": "3.12.1"
  }
 },
 "nbformat": 4,
 "nbformat_minor": 2
}
